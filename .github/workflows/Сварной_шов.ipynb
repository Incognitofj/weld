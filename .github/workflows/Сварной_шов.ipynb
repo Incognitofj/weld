{
  "nbformat": 4,
  "nbformat_minor": 0,
  "metadata": {
    "colab": {
      "provenance": []
    },
    "kernelspec": {
      "name": "python3",
      "display_name": "Python 3"
    },
    "language_info": {
      "name": "python"
    }
  },
  "cells": [
    {
      "cell_type": "code",
      "execution_count": 1,
      "metadata": {
        "colab": {
          "base_uri": "https://localhost:8080/",
          "height": 127
        },
        "id": "ZEa2-uf8Ik44",
        "outputId": "40d7c538-2980-4848-abba-064c9a39c5d1"
      },
      "outputs": [
        {
          "output_type": "display_data",
          "data": {
            "text/plain": [
              "<IPython.core.display.HTML object>"
            ],
            "text/html": [
              "\n",
              "     <input type=\"file\" id=\"files-07e5d08a-f337-4c7a-95b1-ef3fc9b0e56a\" name=\"files[]\" multiple disabled\n",
              "        style=\"border:none\" />\n",
              "     <output id=\"result-07e5d08a-f337-4c7a-95b1-ef3fc9b0e56a\">\n",
              "      Upload widget is only available when the cell has been executed in the\n",
              "      current browser session. Please rerun this cell to enable.\n",
              "      </output>\n",
              "      <script>// Copyright 2017 Google LLC\n",
              "//\n",
              "// Licensed under the Apache License, Version 2.0 (the \"License\");\n",
              "// you may not use this file except in compliance with the License.\n",
              "// You may obtain a copy of the License at\n",
              "//\n",
              "//      http://www.apache.org/licenses/LICENSE-2.0\n",
              "//\n",
              "// Unless required by applicable law or agreed to in writing, software\n",
              "// distributed under the License is distributed on an \"AS IS\" BASIS,\n",
              "// WITHOUT WARRANTIES OR CONDITIONS OF ANY KIND, either express or implied.\n",
              "// See the License for the specific language governing permissions and\n",
              "// limitations under the License.\n",
              "\n",
              "/**\n",
              " * @fileoverview Helpers for google.colab Python module.\n",
              " */\n",
              "(function(scope) {\n",
              "function span(text, styleAttributes = {}) {\n",
              "  const element = document.createElement('span');\n",
              "  element.textContent = text;\n",
              "  for (const key of Object.keys(styleAttributes)) {\n",
              "    element.style[key] = styleAttributes[key];\n",
              "  }\n",
              "  return element;\n",
              "}\n",
              "\n",
              "// Max number of bytes which will be uploaded at a time.\n",
              "const MAX_PAYLOAD_SIZE = 100 * 1024;\n",
              "\n",
              "function _uploadFiles(inputId, outputId) {\n",
              "  const steps = uploadFilesStep(inputId, outputId);\n",
              "  const outputElement = document.getElementById(outputId);\n",
              "  // Cache steps on the outputElement to make it available for the next call\n",
              "  // to uploadFilesContinue from Python.\n",
              "  outputElement.steps = steps;\n",
              "\n",
              "  return _uploadFilesContinue(outputId);\n",
              "}\n",
              "\n",
              "// This is roughly an async generator (not supported in the browser yet),\n",
              "// where there are multiple asynchronous steps and the Python side is going\n",
              "// to poll for completion of each step.\n",
              "// This uses a Promise to block the python side on completion of each step,\n",
              "// then passes the result of the previous step as the input to the next step.\n",
              "function _uploadFilesContinue(outputId) {\n",
              "  const outputElement = document.getElementById(outputId);\n",
              "  const steps = outputElement.steps;\n",
              "\n",
              "  const next = steps.next(outputElement.lastPromiseValue);\n",
              "  return Promise.resolve(next.value.promise).then((value) => {\n",
              "    // Cache the last promise value to make it available to the next\n",
              "    // step of the generator.\n",
              "    outputElement.lastPromiseValue = value;\n",
              "    return next.value.response;\n",
              "  });\n",
              "}\n",
              "\n",
              "/**\n",
              " * Generator function which is called between each async step of the upload\n",
              " * process.\n",
              " * @param {string} inputId Element ID of the input file picker element.\n",
              " * @param {string} outputId Element ID of the output display.\n",
              " * @return {!Iterable<!Object>} Iterable of next steps.\n",
              " */\n",
              "function* uploadFilesStep(inputId, outputId) {\n",
              "  const inputElement = document.getElementById(inputId);\n",
              "  inputElement.disabled = false;\n",
              "\n",
              "  const outputElement = document.getElementById(outputId);\n",
              "  outputElement.innerHTML = '';\n",
              "\n",
              "  const pickedPromise = new Promise((resolve) => {\n",
              "    inputElement.addEventListener('change', (e) => {\n",
              "      resolve(e.target.files);\n",
              "    });\n",
              "  });\n",
              "\n",
              "  const cancel = document.createElement('button');\n",
              "  inputElement.parentElement.appendChild(cancel);\n",
              "  cancel.textContent = 'Cancel upload';\n",
              "  const cancelPromise = new Promise((resolve) => {\n",
              "    cancel.onclick = () => {\n",
              "      resolve(null);\n",
              "    };\n",
              "  });\n",
              "\n",
              "  // Wait for the user to pick the files.\n",
              "  const files = yield {\n",
              "    promise: Promise.race([pickedPromise, cancelPromise]),\n",
              "    response: {\n",
              "      action: 'starting',\n",
              "    }\n",
              "  };\n",
              "\n",
              "  cancel.remove();\n",
              "\n",
              "  // Disable the input element since further picks are not allowed.\n",
              "  inputElement.disabled = true;\n",
              "\n",
              "  if (!files) {\n",
              "    return {\n",
              "      response: {\n",
              "        action: 'complete',\n",
              "      }\n",
              "    };\n",
              "  }\n",
              "\n",
              "  for (const file of files) {\n",
              "    const li = document.createElement('li');\n",
              "    li.append(span(file.name, {fontWeight: 'bold'}));\n",
              "    li.append(span(\n",
              "        `(${file.type || 'n/a'}) - ${file.size} bytes, ` +\n",
              "        `last modified: ${\n",
              "            file.lastModifiedDate ? file.lastModifiedDate.toLocaleDateString() :\n",
              "                                    'n/a'} - `));\n",
              "    const percent = span('0% done');\n",
              "    li.appendChild(percent);\n",
              "\n",
              "    outputElement.appendChild(li);\n",
              "\n",
              "    const fileDataPromise = new Promise((resolve) => {\n",
              "      const reader = new FileReader();\n",
              "      reader.onload = (e) => {\n",
              "        resolve(e.target.result);\n",
              "      };\n",
              "      reader.readAsArrayBuffer(file);\n",
              "    });\n",
              "    // Wait for the data to be ready.\n",
              "    let fileData = yield {\n",
              "      promise: fileDataPromise,\n",
              "      response: {\n",
              "        action: 'continue',\n",
              "      }\n",
              "    };\n",
              "\n",
              "    // Use a chunked sending to avoid message size limits. See b/62115660.\n",
              "    let position = 0;\n",
              "    do {\n",
              "      const length = Math.min(fileData.byteLength - position, MAX_PAYLOAD_SIZE);\n",
              "      const chunk = new Uint8Array(fileData, position, length);\n",
              "      position += length;\n",
              "\n",
              "      const base64 = btoa(String.fromCharCode.apply(null, chunk));\n",
              "      yield {\n",
              "        response: {\n",
              "          action: 'append',\n",
              "          file: file.name,\n",
              "          data: base64,\n",
              "        },\n",
              "      };\n",
              "\n",
              "      let percentDone = fileData.byteLength === 0 ?\n",
              "          100 :\n",
              "          Math.round((position / fileData.byteLength) * 100);\n",
              "      percent.textContent = `${percentDone}% done`;\n",
              "\n",
              "    } while (position < fileData.byteLength);\n",
              "  }\n",
              "\n",
              "  // All done.\n",
              "  yield {\n",
              "    response: {\n",
              "      action: 'complete',\n",
              "    }\n",
              "  };\n",
              "}\n",
              "\n",
              "scope.google = scope.google || {};\n",
              "scope.google.colab = scope.google.colab || {};\n",
              "scope.google.colab._files = {\n",
              "  _uploadFiles,\n",
              "  _uploadFilesContinue,\n",
              "};\n",
              "})(self);\n",
              "</script> "
            ]
          },
          "metadata": {}
        },
        {
          "output_type": "stream",
          "name": "stdout",
          "text": [
            "Saving ebw_data.csv to ebw_data.csv\n"
          ]
        },
        {
          "output_type": "execute_result",
          "data": {
            "text/plain": [
              "{'ebw_data.csv': b'\"IW\",\"IF\",\"VW\",\"FP\",\"Depth\",\"Width\"\\n\"47\",\"139\",\"4.5\",\"80\",\"1.60\",\"2.54\"\\n\"47\",\"139\",\"4.5\",\"80\",\"1.62\",\"2.50\"\\n\"47\",\"139\",\"4.5\",\"80\",\"1.68\",\"2.60\"\\n\"47\",\"139\",\"4.5\",\"80\",\"1.58\",\"2.52\"\\n\"45\",\"140\",\"4.5\",\"80\",\"1.76\",\"2.48\"\\n\"45\",\"140\",\"4.5\",\"80\",\"1.72\",\"2.48\"\\n\"45\",\"140\",\"4.5\",\"80\",\"1.64\",\"2.52\"\\n\"45\",\"140\",\"4.5\",\"80\",\"1.64\",\"2.56\"\\n\"45\",\"140\",\"8.0\",\"80\",\"1.20\",\"2.00\"\\n\"45\",\"140\",\"8.0\",\"80\",\"1.20\",\"1.96\"\\n\"45\",\"140\",\"8.0\",\"80\",\"1.16\",\"1.96\"\\n\"45\",\"140\",\"8.0\",\"80\",\"1.20\",\"1.96\"\\n\"45\",\"141\",\"10.0\",\"80\",\"0.98\",\"1.84\"\\n\"45\",\"141\",\"10.0\",\"80\",\"1.02\",\"1.84\"\\n\"45\",\"141\",\"10.0\",\"80\",\"1.04\",\"1.90\"\\n\"45\",\"141\",\"10.0\",\"80\",\"1.00\",\"1.86\"\\n\"46\",\"141\",\"10.0\",\"80\",\"1.20\",\"1.78\"\\n\"46\",\"141\",\"10.0\",\"80\",\"1.00\",\"1.84\"\\n\"46\",\"141\",\"10.0\",\"80\",\"1.20\",\"1.86\"\\n\"46\",\"141\",\"10.0\",\"80\",\"1.16\",\"1.80\"\\n\"47\",\"141\",\"12.0\",\"80\",\"1.12\",\"1.71\"\\n\"47\",\"141\",\"12.0\",\"80\",\"1.08\",\"1.68\"\\n\"47\",\"141\",\"12.0\",\"80\",\"1.20\",\"1.80\"\\n\"47\",\"141\",\"12.0\",\"80\",\"1.08\",\"1.72\"\\n\"47\",\"134\",\"10.0\",\"110\",\"0.96\",\"2.00\"\\n\"47\",\"134\",\"10.0\",\"110\",\"0.96\",\"1.94\"\\n\"47\",\"134\",\"10.0\",\"110\",\"0.92\",\"1.86\"\\n\"47\",\"134\",\"10.0\",\"110\",\"0.94\",\"1.94\"\\n\"47\",\"139\",\"4.5\",\"80\",\"1.36\",\"2.52\"\\n\"47\",\"139\",\"4.5\",\"80\",\"1.36\",\"2.48\"\\n\"47\",\"139\",\"4.5\",\"80\",\"1.40\",\"2.48\"\\n\"47\",\"139\",\"4.5\",\"80\",\"1.36\",\"2.48\"\\n\"48\",\"131\",\"10.0\",\"125\",\"0.84\",\"2.16\"\\n\"48\",\"131\",\"10.0\",\"125\",\"0.86\",\"2.08\"\\n\"48\",\"131\",\"10.0\",\"125\",\"0.88\",\"2.00\"\\n\"48\",\"131\",\"10.0\",\"125\",\"0.80\",\"2.04\"\\n\"49\",\"132\",\"8.0\",\"125\",\"0.84\",\"2.28\"\\n\"49\",\"132\",\"8.0\",\"125\",\"0.84\",\"2.24\"\\n\"49\",\"132\",\"8.0\",\"125\",\"0.80\",\"2.24\"\\n\"49\",\"132\",\"8.0\",\"125\",\"0.80\",\"2.28\"\\n\"47\",\"140\",\"10.0\",\"80\",\"1.12\",\"1.76\"\\n\"47\",\"140\",\"10.0\",\"80\",\"1.22\",\"1.82\"\\n\"47\",\"140\",\"10.0\",\"80\",\"1.12\",\"1.80\"\\n\"47\",\"140\",\"10.0\",\"80\",\"1.18\",\"1.78\"\\n\"46\",\"146\",\"10.0\",\"60\",\"1.28\",\"1.80\"\\n\"46\",\"146\",\"10.0\",\"60\",\"1.36\",\"1.76\"\\n\"46\",\"146\",\"10.0\",\"60\",\"1.36\",\"1.76\"\\n\"46\",\"146\",\"10.0\",\"60\",\"1.24\",\"1.76\"\\n\"44\",\"146\",\"9.0\",\"60\",\"1.28\",\"1.80\"\\n\"44\",\"146\",\"9.0\",\"60\",\"1.32\",\"1.84\"\\n\"44\",\"146\",\"9.0\",\"60\",\"1.24\",\"1.80\"\\n\"44\",\"146\",\"9.0\",\"60\",\"1.32\",\"1.96\"\\n\"43\",\"150\",\"9.0\",\"50\",\"1.08\",\"1.80\"\\n\"43\",\"150\",\"9.0\",\"50\",\"1.08\",\"1.82\"\\n\"43\",\"150\",\"9.0\",\"50\",\"1.08\",\"1.82\"\\n\"43\",\"150\",\"9.0\",\"50\",\"1.08\",\"1.82\"\\n\"44\",\"146\",\"9.0\",\"60\",\"1.20\",\"1.76\"\\n\"44\",\"146\",\"9.0\",\"60\",\"1.20\",\"1.86\"\\n\"44\",\"146\",\"9.0\",\"60\",\"1.20\",\"1.88\"\\n\"44\",\"146\",\"9.0\",\"60\",\"1.20\",\"1.76\"\\n\"43\",\"146\",\"9.0\",\"60\",\"1.20\",\"1.76\"\\n\"43\",\"146\",\"9.0\",\"60\",\"1.24\",\"1.80\"\\n\"43\",\"146\",\"9.0\",\"60\",\"1.20\",\"1.72\"\\n\"43\",\"146\",\"9.0\",\"60\",\"1.24\",\"1.78\"\\n\"44\",\"146\",\"9.0\",\"60\",\"1.16\",\"1.76\"\\n\"44\",\"146\",\"9.0\",\"60\",\"1.20\",\"1.68\"\\n\"44\",\"146\",\"9.0\",\"60\",\"1.24\",\"1.72\"\\n\"44\",\"146\",\"9.0\",\"60\",\"1.20\",\"1.72\"\\n\"45\",\"146\",\"9.0\",\"60\",\"1.36\",\"1.76\"\\n\"45\",\"146\",\"9.0\",\"60\",\"1.28\",\"1.76\"\\n\"45\",\"146\",\"9.0\",\"60\",\"1.28\",\"1.76\"\\n\"45\",\"146\",\"9.0\",\"60\",\"1.32\",\"1.76\"\\n\\n\\n\\n\\n\\n\\n\\n\\n\\n\\n\\n\\n\\n\\n'}"
            ]
          },
          "metadata": {},
          "execution_count": 1
        }
      ],
      "source": [
        "# Выбрать файл данных - \"ebw_data.csv\"\n",
        "from google.colab import files\n",
        "files.upload()"
      ]
    },
    {
      "cell_type": "code",
      "source": [
        "# Подключить библиотеку Pandas для чтения *.csv-файла данных\n",
        "import pandas as pd\n",
        "\n",
        "# Выполнить чтение файла в таблицу df\n",
        "df = pd.read_csv('ebw_data.csv')"
      ],
      "metadata": {
        "id": "inXxnfplI2OS"
      },
      "execution_count": 45,
      "outputs": []
    },
    {
      "cell_type": "code",
      "source": [
        "# Вывести первые 5 строк в наборе данных\n",
        "df.head()"
      ],
      "metadata": {
        "colab": {
          "base_uri": "https://localhost:8080/",
          "height": 206
        },
        "id": "bkINaVI9I2Tw",
        "outputId": "d507d6cd-68a4-42d2-db56-38a734299c00"
      },
      "execution_count": 15,
      "outputs": [
        {
          "output_type": "execute_result",
          "data": {
            "text/plain": [
              "   IW   IF   VW  FP  Depth  Width\n",
              "0  47  139  4.5  80   1.60   2.54\n",
              "1  47  139  4.5  80   1.62   2.50\n",
              "2  47  139  4.5  80   1.68   2.60\n",
              "3  47  139  4.5  80   1.58   2.52\n",
              "4  45  140  4.5  80   1.76   2.48"
            ],
            "text/html": [
              "\n",
              "  <div id=\"df-3123aa9c-639a-4e28-865f-9dfe2a9ee673\">\n",
              "    <div class=\"colab-df-container\">\n",
              "      <div>\n",
              "<style scoped>\n",
              "    .dataframe tbody tr th:only-of-type {\n",
              "        vertical-align: middle;\n",
              "    }\n",
              "\n",
              "    .dataframe tbody tr th {\n",
              "        vertical-align: top;\n",
              "    }\n",
              "\n",
              "    .dataframe thead th {\n",
              "        text-align: right;\n",
              "    }\n",
              "</style>\n",
              "<table border=\"1\" class=\"dataframe\">\n",
              "  <thead>\n",
              "    <tr style=\"text-align: right;\">\n",
              "      <th></th>\n",
              "      <th>IW</th>\n",
              "      <th>IF</th>\n",
              "      <th>VW</th>\n",
              "      <th>FP</th>\n",
              "      <th>Depth</th>\n",
              "      <th>Width</th>\n",
              "    </tr>\n",
              "  </thead>\n",
              "  <tbody>\n",
              "    <tr>\n",
              "      <th>0</th>\n",
              "      <td>47</td>\n",
              "      <td>139</td>\n",
              "      <td>4.5</td>\n",
              "      <td>80</td>\n",
              "      <td>1.60</td>\n",
              "      <td>2.54</td>\n",
              "    </tr>\n",
              "    <tr>\n",
              "      <th>1</th>\n",
              "      <td>47</td>\n",
              "      <td>139</td>\n",
              "      <td>4.5</td>\n",
              "      <td>80</td>\n",
              "      <td>1.62</td>\n",
              "      <td>2.50</td>\n",
              "    </tr>\n",
              "    <tr>\n",
              "      <th>2</th>\n",
              "      <td>47</td>\n",
              "      <td>139</td>\n",
              "      <td>4.5</td>\n",
              "      <td>80</td>\n",
              "      <td>1.68</td>\n",
              "      <td>2.60</td>\n",
              "    </tr>\n",
              "    <tr>\n",
              "      <th>3</th>\n",
              "      <td>47</td>\n",
              "      <td>139</td>\n",
              "      <td>4.5</td>\n",
              "      <td>80</td>\n",
              "      <td>1.58</td>\n",
              "      <td>2.52</td>\n",
              "    </tr>\n",
              "    <tr>\n",
              "      <th>4</th>\n",
              "      <td>45</td>\n",
              "      <td>140</td>\n",
              "      <td>4.5</td>\n",
              "      <td>80</td>\n",
              "      <td>1.76</td>\n",
              "      <td>2.48</td>\n",
              "    </tr>\n",
              "  </tbody>\n",
              "</table>\n",
              "</div>\n",
              "      <button class=\"colab-df-convert\" onclick=\"convertToInteractive('df-3123aa9c-639a-4e28-865f-9dfe2a9ee673')\"\n",
              "              title=\"Convert this dataframe to an interactive table.\"\n",
              "              style=\"display:none;\">\n",
              "        \n",
              "  <svg xmlns=\"http://www.w3.org/2000/svg\" height=\"24px\"viewBox=\"0 0 24 24\"\n",
              "       width=\"24px\">\n",
              "    <path d=\"M0 0h24v24H0V0z\" fill=\"none\"/>\n",
              "    <path d=\"M18.56 5.44l.94 2.06.94-2.06 2.06-.94-2.06-.94-.94-2.06-.94 2.06-2.06.94zm-11 1L8.5 8.5l.94-2.06 2.06-.94-2.06-.94L8.5 2.5l-.94 2.06-2.06.94zm10 10l.94 2.06.94-2.06 2.06-.94-2.06-.94-.94-2.06-.94 2.06-2.06.94z\"/><path d=\"M17.41 7.96l-1.37-1.37c-.4-.4-.92-.59-1.43-.59-.52 0-1.04.2-1.43.59L10.3 9.45l-7.72 7.72c-.78.78-.78 2.05 0 2.83L4 21.41c.39.39.9.59 1.41.59.51 0 1.02-.2 1.41-.59l7.78-7.78 2.81-2.81c.8-.78.8-2.07 0-2.86zM5.41 20L4 18.59l7.72-7.72 1.47 1.35L5.41 20z\"/>\n",
              "  </svg>\n",
              "      </button>\n",
              "      \n",
              "  <style>\n",
              "    .colab-df-container {\n",
              "      display:flex;\n",
              "      flex-wrap:wrap;\n",
              "      gap: 12px;\n",
              "    }\n",
              "\n",
              "    .colab-df-convert {\n",
              "      background-color: #E8F0FE;\n",
              "      border: none;\n",
              "      border-radius: 50%;\n",
              "      cursor: pointer;\n",
              "      display: none;\n",
              "      fill: #1967D2;\n",
              "      height: 32px;\n",
              "      padding: 0 0 0 0;\n",
              "      width: 32px;\n",
              "    }\n",
              "\n",
              "    .colab-df-convert:hover {\n",
              "      background-color: #E2EBFA;\n",
              "      box-shadow: 0px 1px 2px rgba(60, 64, 67, 0.3), 0px 1px 3px 1px rgba(60, 64, 67, 0.15);\n",
              "      fill: #174EA6;\n",
              "    }\n",
              "\n",
              "    [theme=dark] .colab-df-convert {\n",
              "      background-color: #3B4455;\n",
              "      fill: #D2E3FC;\n",
              "    }\n",
              "\n",
              "    [theme=dark] .colab-df-convert:hover {\n",
              "      background-color: #434B5C;\n",
              "      box-shadow: 0px 1px 3px 1px rgba(0, 0, 0, 0.15);\n",
              "      filter: drop-shadow(0px 1px 2px rgba(0, 0, 0, 0.3));\n",
              "      fill: #FFFFFF;\n",
              "    }\n",
              "  </style>\n",
              "\n",
              "      <script>\n",
              "        const buttonEl =\n",
              "          document.querySelector('#df-3123aa9c-639a-4e28-865f-9dfe2a9ee673 button.colab-df-convert');\n",
              "        buttonEl.style.display =\n",
              "          google.colab.kernel.accessAllowed ? 'block' : 'none';\n",
              "\n",
              "        async function convertToInteractive(key) {\n",
              "          const element = document.querySelector('#df-3123aa9c-639a-4e28-865f-9dfe2a9ee673');\n",
              "          const dataTable =\n",
              "            await google.colab.kernel.invokeFunction('convertToInteractive',\n",
              "                                                     [key], {});\n",
              "          if (!dataTable) return;\n",
              "\n",
              "          const docLinkHtml = 'Like what you see? Visit the ' +\n",
              "            '<a target=\"_blank\" href=https://colab.research.google.com/notebooks/data_table.ipynb>data table notebook</a>'\n",
              "            + ' to learn more about interactive tables.';\n",
              "          element.innerHTML = '';\n",
              "          dataTable['output_type'] = 'display_data';\n",
              "          await google.colab.output.renderOutput(dataTable, element);\n",
              "          const docLink = document.createElement('div');\n",
              "          docLink.innerHTML = docLinkHtml;\n",
              "          element.appendChild(docLink);\n",
              "        }\n",
              "      </script>\n",
              "    </div>\n",
              "  </div>\n",
              "  "
            ]
          },
          "metadata": {},
          "execution_count": 15
        }
      ]
    },
    {
      "cell_type": "code",
      "source": [
        "# Убедиться, что в наборе нет отсутствующих значений\n",
        "df.isnull().sum()"
      ],
      "metadata": {
        "colab": {
          "base_uri": "https://localhost:8080/"
        },
        "id": "CCHqrU9ZRvz4",
        "outputId": "65900f0d-f94f-4ee5-97ba-700aa223d815"
      },
      "execution_count": 19,
      "outputs": [
        {
          "output_type": "execute_result",
          "data": {
            "text/plain": [
              "IW       0\n",
              "IF       0\n",
              "VW       0\n",
              "FP       0\n",
              "Depth    0\n",
              "Width    0\n",
              "dtype: int64"
            ]
          },
          "metadata": {},
          "execution_count": 19
        }
      ]
    },
    {
      "cell_type": "markdown",
      "source": [
        "В наборе данных нет отсутствующих значений"
      ],
      "metadata": {
        "id": "B4e7YevwRz10"
      }
    },
    {
      "cell_type": "code",
      "source": [
        "# Создать новую фигуру 10 х 5\n",
        "plt.figure(figsize=(10,5))\n",
        "\n",
        "# Отобразить тепловую карту с отображением коэффициентов для матрицы корреляции набора данных\n",
        "import seaborn as sns\n",
        "import matplotlib.pyplot as plt\n",
        "sns.heatmap(df.corr(), annot=True, cmap='coolwarm')"
      ],
      "metadata": {
        "colab": {
          "base_uri": "https://localhost:8080/",
          "height": 341
        },
        "id": "VtqMhE4XR2wM",
        "outputId": "7d8c2781-6527-442a-f28e-30106905e33e"
      },
      "execution_count": 20,
      "outputs": [
        {
          "output_type": "execute_result",
          "data": {
            "text/plain": [
              "<matplotlib.axes._subplots.AxesSubplot at 0x7f0b38233cd0>"
            ]
          },
          "metadata": {},
          "execution_count": 20
        },
        {
          "output_type": "display_data",
          "data": {
            "text/plain": [
              "<Figure size 720x360 with 2 Axes>"
            ],
            "image/png": "[encoded data removed]"
          },
          "metadata": {
            "needs_background": "light"
          }
        }
      ]
    },
    {
      "cell_type": "markdown",
      "source": [
        "Наибольшую корреляцию с целевыми переменными имеет атрибут `VW` – с увеличением скорости сварки длина и ширина сварного шва уменьшаются"
      ],
      "metadata": {
        "id": "hmMWjan1TYBu"
      }
    },
    {
      "cell_type": "code",
      "source": [
        "# Удалить атрибуты \"Depth\" и \"Width\", создав два новых набора данных\n",
        "df1 = df.copy()\n",
        "df2 = df.copy()\n",
        "df1.drop(columns='Depth', axis=1, inplace=True)\n",
        "df2.drop(columns='Width', axis=1, inplace=True)"
      ],
      "metadata": {
        "id": "ksUd0A18I2XB"
      },
      "execution_count": 46,
      "outputs": []
    },
    {
      "cell_type": "code",
      "source": [
        "# Вывести первые 5 строк в первом наборе данных\n",
        "df1.head()"
      ],
      "metadata": {
        "colab": {
          "base_uri": "https://localhost:8080/",
          "height": 206
        },
        "id": "HSS25M1qI2Zh",
        "outputId": "3b92ff82-22d6-4804-dace-0e0ed0e4671b"
      },
      "execution_count": 23,
      "outputs": [
        {
          "output_type": "execute_result",
          "data": {
            "text/plain": [
              "   IW   IF   VW  FP  Width\n",
              "0  47  139  4.5  80   2.54\n",
              "1  47  139  4.5  80   2.50\n",
              "2  47  139  4.5  80   2.60\n",
              "3  47  139  4.5  80   2.52\n",
              "4  45  140  4.5  80   2.48"
            ],
            "text/html": [
              "\n",
              "  <div id=\"df-edf88c25-f91f-4953-8a0f-11076fafda51\">\n",
              "    <div class=\"colab-df-container\">\n",
              "      <div>\n",
              "<style scoped>\n",
              "    .dataframe tbody tr th:only-of-type {\n",
              "        vertical-align: middle;\n",
              "    }\n",
              "\n",
              "    .dataframe tbody tr th {\n",
              "        vertical-align: top;\n",
              "    }\n",
              "\n",
              "    .dataframe thead th {\n",
              "        text-align: right;\n",
              "    }\n",
              "</style>\n",
              "<table border=\"1\" class=\"dataframe\">\n",
              "  <thead>\n",
              "    <tr style=\"text-align: right;\">\n",
              "      <th></th>\n",
              "      <th>IW</th>\n",
              "      <th>IF</th>\n",
              "      <th>VW</th>\n",
              "      <th>FP</th>\n",
              "      <th>Width</th>\n",
              "    </tr>\n",
              "  </thead>\n",
              "  <tbody>\n",
              "    <tr>\n",
              "      <th>0</th>\n",
              "      <td>47</td>\n",
              "      <td>139</td>\n",
              "      <td>4.5</td>\n",
              "      <td>80</td>\n",
              "      <td>2.54</td>\n",
              "    </tr>\n",
              "    <tr>\n",
              "      <th>1</th>\n",
              "      <td>47</td>\n",
              "      <td>139</td>\n",
              "      <td>4.5</td>\n",
              "      <td>80</td>\n",
              "      <td>2.50</td>\n",
              "    </tr>\n",
              "    <tr>\n",
              "      <th>2</th>\n",
              "      <td>47</td>\n",
              "      <td>139</td>\n",
              "      <td>4.5</td>\n",
              "      <td>80</td>\n",
              "      <td>2.60</td>\n",
              "    </tr>\n",
              "    <tr>\n",
              "      <th>3</th>\n",
              "      <td>47</td>\n",
              "      <td>139</td>\n",
              "      <td>4.5</td>\n",
              "      <td>80</td>\n",
              "      <td>2.52</td>\n",
              "    </tr>\n",
              "    <tr>\n",
              "      <th>4</th>\n",
              "      <td>45</td>\n",
              "      <td>140</td>\n",
              "      <td>4.5</td>\n",
              "      <td>80</td>\n",
              "      <td>2.48</td>\n",
              "    </tr>\n",
              "  </tbody>\n",
              "</table>\n",
              "</div>\n",
              "      <button class=\"colab-df-convert\" onclick=\"convertToInteractive('df-edf88c25-f91f-4953-8a0f-11076fafda51')\"\n",
              "              title=\"Convert this dataframe to an interactive table.\"\n",
              "              style=\"display:none;\">\n",
              "        \n",
              "  <svg xmlns=\"http://www.w3.org/2000/svg\" height=\"24px\"viewBox=\"0 0 24 24\"\n",
              "       width=\"24px\">\n",
              "    <path d=\"M0 0h24v24H0V0z\" fill=\"none\"/>\n",
              "    <path d=\"M18.56 5.44l.94 2.06.94-2.06 2.06-.94-2.06-.94-.94-2.06-.94 2.06-2.06.94zm-11 1L8.5 8.5l.94-2.06 2.06-.94-2.06-.94L8.5 2.5l-.94 2.06-2.06.94zm10 10l.94 2.06.94-2.06 2.06-.94-2.06-.94-.94-2.06-.94 2.06-2.06.94z\"/><path d=\"M17.41 7.96l-1.37-1.37c-.4-.4-.92-.59-1.43-.59-.52 0-1.04.2-1.43.59L10.3 9.45l-7.72 7.72c-.78.78-.78 2.05 0 2.83L4 21.41c.39.39.9.59 1.41.59.51 0 1.02-.2 1.41-.59l7.78-7.78 2.81-2.81c.8-.78.8-2.07 0-2.86zM5.41 20L4 18.59l7.72-7.72 1.47 1.35L5.41 20z\"/>\n",
              "  </svg>\n",
              "      </button>\n",
              "      \n",
              "  <style>\n",
              "    .colab-df-container {\n",
              "      display:flex;\n",
              "      flex-wrap:wrap;\n",
              "      gap: 12px;\n",
              "    }\n",
              "\n",
              "    .colab-df-convert {\n",
              "      background-color: #E8F0FE;\n",
              "      border: none;\n",
              "      border-radius: 50%;\n",
              "      cursor: pointer;\n",
              "      display: none;\n",
              "      fill: #1967D2;\n",
              "      height: 32px;\n",
              "      padding: 0 0 0 0;\n",
              "      width: 32px;\n",
              "    }\n",
              "\n",
              "    .colab-df-convert:hover {\n",
              "      background-color: #E2EBFA;\n",
              "      box-shadow: 0px 1px 2px rgba(60, 64, 67, 0.3), 0px 1px 3px 1px rgba(60, 64, 67, 0.15);\n",
              "      fill: #174EA6;\n",
              "    }\n",
              "\n",
              "    [theme=dark] .colab-df-convert {\n",
              "      background-color: #3B4455;\n",
              "      fill: #D2E3FC;\n",
              "    }\n",
              "\n",
              "    [theme=dark] .colab-df-convert:hover {\n",
              "      background-color: #434B5C;\n",
              "      box-shadow: 0px 1px 3px 1px rgba(0, 0, 0, 0.15);\n",
              "      filter: drop-shadow(0px 1px 2px rgba(0, 0, 0, 0.3));\n",
              "      fill: #FFFFFF;\n",
              "    }\n",
              "  </style>\n",
              "\n",
              "      <script>\n",
              "        const buttonEl =\n",
              "          document.querySelector('#df-edf88c25-f91f-4953-8a0f-11076fafda51 button.colab-df-convert');\n",
              "        buttonEl.style.display =\n",
              "          google.colab.kernel.accessAllowed ? 'block' : 'none';\n",
              "\n",
              "        async function convertToInteractive(key) {\n",
              "          const element = document.querySelector('#df-edf88c25-f91f-4953-8a0f-11076fafda51');\n",
              "          const dataTable =\n",
              "            await google.colab.kernel.invokeFunction('convertToInteractive',\n",
              "                                                     [key], {});\n",
              "          if (!dataTable) return;\n",
              "\n",
              "          const docLinkHtml = 'Like what you see? Visit the ' +\n",
              "            '<a target=\"_blank\" href=https://colab.research.google.com/notebooks/data_table.ipynb>data table notebook</a>'\n",
              "            + ' to learn more about interactive tables.';\n",
              "          element.innerHTML = '';\n",
              "          dataTable['output_type'] = 'display_data';\n",
              "          await google.colab.output.renderOutput(dataTable, element);\n",
              "          const docLink = document.createElement('div');\n",
              "          docLink.innerHTML = docLinkHtml;\n",
              "          element.appendChild(docLink);\n",
              "        }\n",
              "      </script>\n",
              "    </div>\n",
              "  </div>\n",
              "  "
            ]
          },
          "metadata": {},
          "execution_count": 23
        }
      ]
    },
    {
      "cell_type": "code",
      "source": [
        "# Вывести первые 5 строк во втором наборе данных\n",
        "df2.head()"
      ],
      "metadata": {
        "colab": {
          "base_uri": "https://localhost:8080/",
          "height": 206
        },
        "id": "O_oKlfjFJX8x",
        "outputId": "8fd5c14c-dd94-4d8c-8c7c-9ca52bdc74b1"
      },
      "execution_count": 24,
      "outputs": [
        {
          "output_type": "execute_result",
          "data": {
            "text/plain": [
              "   IW   IF   VW  FP  Depth\n",
              "0  47  139  4.5  80   1.60\n",
              "1  47  139  4.5  80   1.62\n",
              "2  47  139  4.5  80   1.68\n",
              "3  47  139  4.5  80   1.58\n",
              "4  45  140  4.5  80   1.76"
            ],
            "text/html": [
              "\n",
              "  <div id=\"df-f42ced13-e82d-4b2e-996b-1ab607e1496d\">\n",
              "    <div class=\"colab-df-container\">\n",
              "      <div>\n",
              "<style scoped>\n",
              "    .dataframe tbody tr th:only-of-type {\n",
              "        vertical-align: middle;\n",
              "    }\n",
              "\n",
              "    .dataframe tbody tr th {\n",
              "        vertical-align: top;\n",
              "    }\n",
              "\n",
              "    .dataframe thead th {\n",
              "        text-align: right;\n",
              "    }\n",
              "</style>\n",
              "<table border=\"1\" class=\"dataframe\">\n",
              "  <thead>\n",
              "    <tr style=\"text-align: right;\">\n",
              "      <th></th>\n",
              "      <th>IW</th>\n",
              "      <th>IF</th>\n",
              "      <th>VW</th>\n",
              "      <th>FP</th>\n",
              "      <th>Depth</th>\n",
              "    </tr>\n",
              "  </thead>\n",
              "  <tbody>\n",
              "    <tr>\n",
              "      <th>0</th>\n",
              "      <td>47</td>\n",
              "      <td>139</td>\n",
              "      <td>4.5</td>\n",
              "      <td>80</td>\n",
              "      <td>1.60</td>\n",
              "    </tr>\n",
              "    <tr>\n",
              "      <th>1</th>\n",
              "      <td>47</td>\n",
              "      <td>139</td>\n",
              "      <td>4.5</td>\n",
              "      <td>80</td>\n",
              "      <td>1.62</td>\n",
              "    </tr>\n",
              "    <tr>\n",
              "      <th>2</th>\n",
              "      <td>47</td>\n",
              "      <td>139</td>\n",
              "      <td>4.5</td>\n",
              "      <td>80</td>\n",
              "      <td>1.68</td>\n",
              "    </tr>\n",
              "    <tr>\n",
              "      <th>3</th>\n",
              "      <td>47</td>\n",
              "      <td>139</td>\n",
              "      <td>4.5</td>\n",
              "      <td>80</td>\n",
              "      <td>1.58</td>\n",
              "    </tr>\n",
              "    <tr>\n",
              "      <th>4</th>\n",
              "      <td>45</td>\n",
              "      <td>140</td>\n",
              "      <td>4.5</td>\n",
              "      <td>80</td>\n",
              "      <td>1.76</td>\n",
              "    </tr>\n",
              "  </tbody>\n",
              "</table>\n",
              "</div>\n",
              "      <button class=\"colab-df-convert\" onclick=\"convertToInteractive('df-f42ced13-e82d-4b2e-996b-1ab607e1496d')\"\n",
              "              title=\"Convert this dataframe to an interactive table.\"\n",
              "              style=\"display:none;\">\n",
              "        \n",
              "  <svg xmlns=\"http://www.w3.org/2000/svg\" height=\"24px\"viewBox=\"0 0 24 24\"\n",
              "       width=\"24px\">\n",
              "    <path d=\"M0 0h24v24H0V0z\" fill=\"none\"/>\n",
              "    <path d=\"M18.56 5.44l.94 2.06.94-2.06 2.06-.94-2.06-.94-.94-2.06-.94 2.06-2.06.94zm-11 1L8.5 8.5l.94-2.06 2.06-.94-2.06-.94L8.5 2.5l-.94 2.06-2.06.94zm10 10l.94 2.06.94-2.06 2.06-.94-2.06-.94-.94-2.06-.94 2.06-2.06.94z\"/><path d=\"M17.41 7.96l-1.37-1.37c-.4-.4-.92-.59-1.43-.59-.52 0-1.04.2-1.43.59L10.3 9.45l-7.72 7.72c-.78.78-.78 2.05 0 2.83L4 21.41c.39.39.9.59 1.41.59.51 0 1.02-.2 1.41-.59l7.78-7.78 2.81-2.81c.8-.78.8-2.07 0-2.86zM5.41 20L4 18.59l7.72-7.72 1.47 1.35L5.41 20z\"/>\n",
              "  </svg>\n",
              "      </button>\n",
              "      \n",
              "  <style>\n",
              "    .colab-df-container {\n",
              "      display:flex;\n",
              "      flex-wrap:wrap;\n",
              "      gap: 12px;\n",
              "    }\n",
              "\n",
              "    .colab-df-convert {\n",
              "      background-color: #E8F0FE;\n",
              "      border: none;\n",
              "      border-radius: 50%;\n",
              "      cursor: pointer;\n",
              "      display: none;\n",
              "      fill: #1967D2;\n",
              "      height: 32px;\n",
              "      padding: 0 0 0 0;\n",
              "      width: 32px;\n",
              "    }\n",
              "\n",
              "    .colab-df-convert:hover {\n",
              "      background-color: #E2EBFA;\n",
              "      box-shadow: 0px 1px 2px rgba(60, 64, 67, 0.3), 0px 1px 3px 1px rgba(60, 64, 67, 0.15);\n",
              "      fill: #174EA6;\n",
              "    }\n",
              "\n",
              "    [theme=dark] .colab-df-convert {\n",
              "      background-color: #3B4455;\n",
              "      fill: #D2E3FC;\n",
              "    }\n",
              "\n",
              "    [theme=dark] .colab-df-convert:hover {\n",
              "      background-color: #434B5C;\n",
              "      box-shadow: 0px 1px 3px 1px rgba(0, 0, 0, 0.15);\n",
              "      filter: drop-shadow(0px 1px 2px rgba(0, 0, 0, 0.3));\n",
              "      fill: #FFFFFF;\n",
              "    }\n",
              "  </style>\n",
              "\n",
              "      <script>\n",
              "        const buttonEl =\n",
              "          document.querySelector('#df-f42ced13-e82d-4b2e-996b-1ab607e1496d button.colab-df-convert');\n",
              "        buttonEl.style.display =\n",
              "          google.colab.kernel.accessAllowed ? 'block' : 'none';\n",
              "\n",
              "        async function convertToInteractive(key) {\n",
              "          const element = document.querySelector('#df-f42ced13-e82d-4b2e-996b-1ab607e1496d');\n",
              "          const dataTable =\n",
              "            await google.colab.kernel.invokeFunction('convertToInteractive',\n",
              "                                                     [key], {});\n",
              "          if (!dataTable) return;\n",
              "\n",
              "          const docLinkHtml = 'Like what you see? Visit the ' +\n",
              "            '<a target=\"_blank\" href=https://colab.research.google.com/notebooks/data_table.ipynb>data table notebook</a>'\n",
              "            + ' to learn more about interactive tables.';\n",
              "          element.innerHTML = '';\n",
              "          dataTable['output_type'] = 'display_data';\n",
              "          await google.colab.output.renderOutput(dataTable, element);\n",
              "          const docLink = document.createElement('div');\n",
              "          docLink.innerHTML = docLinkHtml;\n",
              "          element.appendChild(docLink);\n",
              "        }\n",
              "      </script>\n",
              "    </div>\n",
              "  </div>\n",
              "  "
            ]
          },
          "metadata": {},
          "execution_count": 24
        }
      ]
    },
    {
      "cell_type": "markdown",
      "source": [
        "## Предсказание ширины"
      ],
      "metadata": {
        "id": "_Y9BKtMIKKNJ"
      }
    },
    {
      "cell_type": "code",
      "source": [
        "# Выполнить разбиение данных на обучающий и тестовый набор\n",
        "from sklearn.model_selection import train_test_split\n",
        "X_train, X_test = train_test_split(df1, random_state=117, test_size=0.2)"
      ],
      "metadata": {
        "id": "yW5wSOuOJYMQ"
      },
      "execution_count": 47,
      "outputs": []
    },
    {
      "cell_type": "code",
      "source": [
        "# Скопировать целевую переменную в y, а остальное – в X:\n",
        "y_train = X_train['Width'].copy()\n",
        "X_train = X_train.drop(['Width'], axis=1)\n",
        "\n",
        "y_test = X_test['Width'].copy()\n",
        "X_test = X_test.drop(['Width'], axis=1)"
      ],
      "metadata": {
        "id": "qDeHZIcGKqTC"
      },
      "execution_count": 48,
      "outputs": []
    },
    {
      "cell_type": "code",
      "source": [
        "# Импортировать Ridge-регрессию и GridSearchCV для подбора оптимальных параметров\n",
        "from sklearn.linear_model import Ridge\n",
        "from sklearn.model_selection import GridSearchCV\n",
        "\n",
        "# Создать словарь параметров для перебора всех возможных комбинаций\n",
        "tuned_params = {'alpha': [0.0001, 0.001, 0.01, 0.1, 1, 10, 100, 1000, 10000, 100000]}\n",
        "\n",
        "# Построить линейную регрессионную модель – Ridge-регрессию - подобрав оптимальные параметры\n",
        "model1 = GridSearchCV(Ridge(), tuned_params, scoring='neg_mean_absolute_error', cv=10, n_jobs=-1)\n",
        "\n",
        "# Обучить оптимальную модель на обучающей выборке\n",
        "model1.fit(X_train, y_train)"
      ],
      "metadata": {
        "colab": {
          "base_uri": "https://localhost:8080/"
        },
        "id": "-cuMaMu5UOJN",
        "outputId": "8993a61a-1586-4dd1-8950-a39e7f60bc4d"
      },
      "execution_count": 49,
      "outputs": [
        {
          "output_type": "execute_result",
          "data": {
            "text/plain": [
              "GridSearchCV(cv=10, estimator=Ridge(), n_jobs=-1,\n",
              "             param_grid={'alpha': [0.0001, 0.001, 0.01, 0.1, 1, 10, 100, 1000,\n",
              "                                   10000, 100000]},\n",
              "             scoring='neg_mean_absolute_error')"
            ]
          },
          "metadata": {},
          "execution_count": 49
        }
      ]
    },
    {
      "cell_type": "code",
      "source": [
        "# Вывести лучшие найденные параметры модели\n",
        "model1.best_estimator_"
      ],
      "metadata": {
        "colab": {
          "base_uri": "https://localhost:8080/"
        },
        "id": "gjfQwuu0Uj4-",
        "outputId": "70576364-7638-4d86-d822-9f3014aca696"
      },
      "execution_count": 50,
      "outputs": [
        {
          "output_type": "execute_result",
          "data": {
            "text/plain": [
              "Ridge(alpha=1)"
            ]
          },
          "metadata": {},
          "execution_count": 50
        }
      ]
    },
    {
      "cell_type": "code",
      "source": [
        "# Выполнить предсказание – получить прогноз модели на тестовых данных\n",
        "pred = model1.predict(X_test)"
      ],
      "metadata": {
        "id": "ctn7_PE8Urld"
      },
      "execution_count": 51,
      "outputs": []
    },
    {
      "cell_type": "code",
      "source": [
        "# Получить результаты работы модели (метрики MAE, MSE, RMSE, R-squared)\n",
        "from math import sqrt\n",
        "from sklearn.metrics import mean_squared_error as mse\n",
        "from sklearn.metrics import r2_score\n",
        "from sklearn.metrics import mean_absolute_error as mae\n",
        "\n",
        "print(\"Результаты Ridge-регрессии на тестовой выборке:\\n\")\n",
        "print(\"RMSE: \", sqrt(mse(y_test.values, pred)))\n",
        "print(\"R-squared: \", r2_score(y_test.values, pred))\n",
        "print(\"MAE: \", mae(y_test.values, pred))\n",
        "print('MSE:', mse(y_test.values, pred))"
      ],
      "metadata": {
        "colab": {
          "base_uri": "https://localhost:8080/"
        },
        "id": "ArXC-dMhUxtF",
        "outputId": "df013366-311a-4d5d-df04-6a30e80b2c7c"
      },
      "execution_count": 52,
      "outputs": [
        {
          "output_type": "stream",
          "name": "stdout",
          "text": [
            "Результаты Ridge-регрессии на тестовой выборке:\n",
            "\n",
            "RMSE:  0.06428384567292757\n",
            "R-squared:  0.9560722237478895\n",
            "MAE:  0.05000149868223696\n",
            "MSE: 0.004132412814500769\n"
          ]
        }
      ]
    },
    {
      "cell_type": "markdown",
      "source": [
        "## Предсказание глубины"
      ],
      "metadata": {
        "id": "3i8hQ0emLpMX"
      }
    },
    {
      "cell_type": "code",
      "source": [
        "X_train2, X_test2 = train_test_split(df2, random_state=45, test_size=0.2)\n",
        "\n",
        "y_train2 = X_train2['Depth'].copy()\n",
        "X_train2 = X_train2.drop(['Depth'], axis=1)\n",
        "\n",
        "y_test2 = X_test2['Depth'].copy()\n",
        "X_test2 = X_test2.drop(['Depth'], axis=1)"
      ],
      "metadata": {
        "id": "8lkFKGpiLqtB"
      },
      "execution_count": 55,
      "outputs": []
    },
    {
      "cell_type": "code",
      "source": [
        "model2 = GridSearchCV(Ridge(), tuned_params, scoring='neg_mean_absolute_error', cv=10, n_jobs=-1)\n",
        "model2.fit(X_train2, y_train2)\n",
        "\n",
        "print(model2.best_estimator_)\n",
        "pred2 = model2.predict(X_test2)\n",
        "\n",
        "print(\"Результаты Ridge-регрессии на тестовой выборке:\\n\")\n",
        "print(\"RMSE: \", sqrt(mse(y_test2.values, pred2)))\n",
        "print(\"R-squared: \", r2_score(y_test2.values, pred2))\n",
        "print(\"MAE: \", mae(y_test2.values, pred2))\n",
        "print('MSE:', mse(y_test2.values, pred2))"
      ],
      "metadata": {
        "colab": {
          "base_uri": "https://localhost:8080/"
        },
        "id": "V7LQ3J1-Lqvg",
        "outputId": "4e4d8ed7-3f18-454b-c7fa-28a232529d07"
      },
      "execution_count": 56,
      "outputs": [
        {
          "output_type": "stream",
          "name": "stdout",
          "text": [
            "Ridge(alpha=0.0001)\n",
            "Результаты Ridge-регрессии на тестовой выборке:\n",
            "\n",
            "RMSE:  0.1052247286861428\n",
            "R-squared:  0.7838503163747412\n",
            "MAE:  0.07931200775543648\n",
            "MSE: 0.011072243527072364\n"
          ]
        }
      ]
    },
    {
      "cell_type": "markdown",
      "source": [
        "## Визуализация результатов"
      ],
      "metadata": {
        "id": "ti5CnOzgMPiA"
      }
    },
    {
      "cell_type": "code",
      "source": [
        "import matplotlib.pyplot as plt\n",
        "\n",
        "y_w = pd.DataFrame({'Истинные значения': y_test, 'Предсказанные значения': pred})\n",
        "y_d = pd.DataFrame({'Истинные значения': y_test2, 'Предсказанные значения': pred2})\n",
        "\n",
        "fig, ax = plt.subplots(ncols=2, nrows=1, figsize=(25, 4))\n",
        "ax = ax.flatten()\n",
        "y_w.plot(kind='bar', title='Ширина сварного шва', grid=True, ax=ax[0])\n",
        "y_d.plot(kind='bar', title='Глубина сварного шва', grid=True, ax=ax[1])\n",
        "\n",
        "plt.show()"
      ],
      "metadata": {
        "colab": {
          "base_uri": "https://localhost:8080/",
          "height": 284
        },
        "id": "vf16_45vLD0A",
        "outputId": "30403797-bf3f-4804-e16c-75404084ed90"
      },
      "execution_count": 57,
      "outputs": [
        {
          "output_type": "display_data",
          "data": {
            "text/plain": [
              "<Figure size 1800x288 with 2 Axes>"
            ],
            "image/png": "[encoded data removed]"
          },
          "metadata": {
            "needs_background": "light"
          }
        }
      ]
    }
  ]
}